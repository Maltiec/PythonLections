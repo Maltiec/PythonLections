{
 "cells": [
  {
   "cell_type": "markdown",
   "id": "5f37bb2b-df01-4842-9b75-f58b60ab95f6",
   "metadata": {},
   "source": [
    "# Лекция 5. Использование ООП в Python на примере с моделью робота\n",
    "\n",
    "Предположим, мы создаём программу для моделирования робота с использованием ООП. Для этого определим несколько классов, которые будут описывать различные компоненты робота, такие как **Робот**, **Двигатель**, **Колесо** и т. д.\n",
    "\n",
    "## 5.1 Класс `Motor` (Двигатель)\n",
    "\n",
    "Для начала создадим класс, который будет описывать двигатель робота. Он будет иметь атрибуты мощности и максимальной скорости."
   ]
  },
  {
   "cell_type": "code",
   "execution_count": null,
   "id": "6df6d847-0396-4e7b-92f4-46cdd52d9492",
   "metadata": {},
   "outputs": [],
   "source": [
    "class Motor:\n",
    "    def __init__(self, max_speed, power):\n",
    "        self.max_speed = max_speed  # Максимальная скорость мотора\n",
    "        self.power = power  # Мощность мотора\n",
    "\n",
    "    def set_speed(self, speed):\n",
    "        \"\"\"Устанавливаем скорость мотора\"\"\"\n",
    "        if 0 <= speed <= self.max_speed:\n",
    "            self.speed = speed\n",
    "        else:\n",
    "            print(\"Скорость вне диапазона!\")\n",
    "\n",
    "    def get_speed(self):\n",
    "        \"\"\"Получаем текущую скорость мотора\"\"\"\n",
    "        return self.speed\n"
   ]
  },
  {
   "cell_type": "markdown",
   "id": "f39cc6bb-cea0-4702-9295-d1de00f87618",
   "metadata": {},
   "source": [
    "## 5.2 Класс `Wheel` (Колесо)\n",
    "\n",
    "Каждое колесо робота может вращаться и влиять на его движение. Мы создадим класс для колеса, который будет иметь атрибуты радиуса и текущей скорости вращения."
   ]
  },
  {
   "cell_type": "code",
   "execution_count": null,
   "id": "9c88d6ed-5921-4260-bb68-849c56822ab9",
   "metadata": {},
   "outputs": [],
   "source": [
    "class Wheel:\n",
    "    def __init__(self, radius):\n",
    "        self.radius = radius  # Радиус колеса\n",
    "        self.rotation_speed = 0  # Скорость вращения колеса\n",
    "\n",
    "    def rotate(self, speed):\n",
    "        \"\"\"Устанавливаем скорость вращения колеса\"\"\"\n",
    "        self.rotation_speed = speed\n",
    "\n",
    "    def get_rotation_speed(self):\n",
    "        \"\"\"Получаем текущую скорость вращения колеса\"\"\"\n",
    "        return self.rotation_speed"
   ]
  },
  {
   "cell_type": "markdown",
   "id": "d642b0c0-4e06-4e14-90d8-8613eeb8415c",
   "metadata": {},
   "source": [
    "## 5.3 Класс `Robot` (Робот)\n",
    "\n",
    "Теперь мы создадим класс робота, который будет включать в себя два двигателя и два колеса. Робот будет управляться через методы для движения, поворота и остановки."
   ]
  },
  {
   "cell_type": "code",
   "execution_count": null,
   "id": "6c65383d-1f3e-4ad8-ac46-00f7f0a202ed",
   "metadata": {},
   "outputs": [],
   "source": [
    "class Robot:\n",
    "    def __init__(self, motor_left, motor_right, wheel_left, wheel_right):\n",
    "        self.motor_left = motor_left  # Левый двигатель\n",
    "        self.motor_right = motor_right  # Правый двигатель\n",
    "        self.wheel_left = wheel_left  # Левое колесо\n",
    "        self.wheel_right = wheel_right  # Правое колесо\n",
    "\n",
    "    def move_forward(self, speed):\n",
    "        \"\"\"Движение робота вперед\"\"\"\n",
    "        self.motor_left.set_speed(speed)\n",
    "        self.motor_right.set_speed(speed)\n",
    "        self.wheel_left.rotate(speed)\n",
    "        self.wheel_right.rotate(speed)\n",
    "\n",
    "    def turn_left(self, speed):\n",
    "        \"\"\"Поворот налево\"\"\"\n",
    "        self.motor_left.set_speed(0)  # Левый мотор не вращается\n",
    "        self.motor_right.set_speed(speed)\n",
    "        self.wheel_left.rotate(0)\n",
    "        self.wheel_right.rotate(speed)\n",
    "\n",
    "    def turn_right(self, speed):\n",
    "        \"\"\"Поворот направо\"\"\"\n",
    "        self.motor_left.set_speed(speed)\n",
    "        self.motor_right.set_speed(0)  # Правый мотор не вращается\n",
    "        self.wheel_left.rotate(speed)\n",
    "        self.wheel_right.rotate(0)\n",
    "\n",
    "    def stop(self):\n",
    "        \"\"\"Остановка робота\"\"\"\n",
    "        self.motor_left.set_speed(0)\n",
    "        self.motor_right.set_speed(0)\n",
    "        self.wheel_left.rotate(0)\n",
    "        self.wheel_right.rotate(0)\n"
   ]
  },
  {
   "cell_type": "markdown",
   "id": "8e72a5e7-d033-48bd-8e97-d278aed46ccb",
   "metadata": {},
   "source": [
    "## 5.4 Пример использования"
   ]
  },
  {
   "cell_type": "code",
   "execution_count": null,
   "id": "aac04376-b6f1-4cd5-b577-3f387b1fafaa",
   "metadata": {},
   "outputs": [],
   "source": [
    "# Создаем двигатели и колеса\n",
    "motor_left = Motor(max_speed=10, power=100)\n",
    "motor_right = Motor(max_speed=10, power=100)\n",
    "wheel_left = Wheel(radius=5)\n",
    "wheel_right = Wheel(radius=5)\n",
    "\n",
    "# Создаем робота\n",
    "robot = Robot(motor_left, motor_right, wheel_left, wheel_right)\n",
    "\n",
    "# Двигаем робота вперед с определенной скоростью\n",
    "robot.move_forward(5)\n",
    "print(f\"Скорость левого мотора: {motor_left.get_speed()} м/с\")\n",
    "print(f\"Скорость правого мотора: {motor_right.get_speed()} м/с\")\n",
    "\n",
    "# Поворот налево\n",
    "robot.turn_left(5)\n"
   ]
  },
  {
   "cell_type": "markdown",
   "id": "55f0ecab-e636-4cc0-98be-4a3782e06424",
   "metadata": {},
   "source": [
    "В этом примере мы создали объект робота, который может двигаться вперед и поворачивать налево или направо, управляя двигателями и колесами с помощью методов. Классы `Motor` и `Wheel` инкапсулируют логику работы двигателей и колес, позволяя роботу быть более гибким и расширяемым."
   ]
  },
  {
   "cell_type": "markdown",
   "id": "6042a899-ae12-4450-b56a-a65d0bafd067",
   "metadata": {},
   "source": [
    "## 5.5 Расчёт скорости передвижения колесного робота\n",
    "\n",
    "Теперь, когда мы построили структуру для робота, давайте добавим расчет скорости передвижения робота. Для этого нужно учитывать два момента:\n",
    "\n",
    "1. Скорость вращения колес: Это скорость, с которой вращается колесо робота.\n",
    "2. Радиус колес: Важно учитывать, что колесо будет двигаться по окружности.\n",
    "\n",
    "### 5.5.1 Формула для расчета линейной скорости\n",
    "\n",
    "Скорость робота (линейная скорость) зависит от скорости вращения колес и их радиуса. Формула для расчета линейной скорости выглядит следующим образом:\n",
    "\n",
    "$v = \\omega * r$\n",
    "\n",
    "где:\n",
    "- $v$ - линейная скорость робота (м/с)\n",
    "- $\\omega$ - угловая скорость колес (об/с)\n",
    "- r - радиус колеса (м).\n",
    "\n",
    "Для расчета скорости робота, можно использовать текущую скорость вращения колес и их радиус:"
   ]
  },
  {
   "cell_type": "code",
   "execution_count": null,
   "id": "11cf89df-e1d4-4c6c-bf9e-b6aa772db204",
   "metadata": {},
   "outputs": [],
   "source": [
    "class Robot:\n",
    "    def __init__(self, motor_left, motor_right, wheel_left, wheel_right):\n",
    "        self.motor_left = motor_left\n",
    "        self.motor_right = motor_right\n",
    "        self.wheel_left = wheel_left\n",
    "        self.wheel_right = wheel_right\n",
    "\n",
    "    def calculate_speed(self):\n",
    "        \"\"\"Расчет линейной скорости робота\"\"\"\n",
    "        # Получаем скорость вращения колес\n",
    "        left_wheel_speed = self.wheel_left.get_rotation_speed()\n",
    "        right_wheel_speed = self.wheel_right.get_rotation_speed()\n",
    "\n",
    "        # Считаем среднюю скорость колес\n",
    "        average_wheel_speed = (left_wheel_speed + right_wheel_speed) / 2\n",
    "\n",
    "        # Расчет линейной скорости робота\n",
    "        speed = average_wheel_speed * self.wheel_left.radius\n",
    "        return speed\n",
    "\n",
    "    def move_forward(self, speed):\n",
    "        \"\"\"Движение робота вперед\"\"\"\n",
    "        self.motor_left.set_speed(speed)\n",
    "        self.motor_right.set_speed(speed)\n",
    "        self.wheel_left.rotate(speed)\n",
    "        self.wheel_right.rotate(speed)\n",
    "\n",
    "    def turn_left(self, speed):\n",
    "        \"\"\"Поворот налево\"\"\"\n",
    "        self.motor_left.set_speed(0)\n",
    "        self.motor_right.set_speed(speed)\n",
    "        self.wheel_left.rotate(0)\n",
    "        self.wheel_right.rotate(speed)\n",
    "\n",
    "    def turn_right(self, speed):\n",
    "        \"\"\"Поворот направо\"\"\"\n",
    "        self.motor_left.set_speed(speed)\n",
    "        self.motor_right.set_speed(0)\n",
    "        self.wheel_left.rotate(speed)\n",
    "        self.wheel_right.rotate(0)\n",
    "\n",
    "    def stop(self):\n",
    "        \"\"\"Остановка робота\"\"\"\n",
    "        self.motor_left.set_speed(0)\n",
    "        self.motor_right.set_speed(0)\n",
    "        self.wheel_left.rotate(0)\n",
    "        self.wheel_right.rotate(0)\n"
   ]
  },
  {
   "cell_type": "markdown",
   "id": "7802e330-66f4-4edd-a2b5-797b53620dee",
   "metadata": {},
   "source": [
    "## 5.5.2 Пример расчета скорости"
   ]
  },
  {
   "cell_type": "code",
   "execution_count": null,
   "id": "708acb54-4d17-4c1b-b989-ba213aa13e06",
   "metadata": {},
   "outputs": [],
   "source": [
    "# Создаем объекты робота\n",
    "motor_left = Motor(max_speed=10, power=100)\n",
    "motor_right = Motor(max_speed=10, power=100)\n",
    "wheel_left = Wheel(radius=0.1)  # Радиус колеса 10 см\n",
    "wheel_right = Wheel(radius=0.1)\n",
    "\n",
    "robot = Robot(motor_left, motor_right, wheel_left, wheel_right)\n",
    "\n",
    "# Двигаем робота вперед\n",
    "robot.move_forward(5)\n",
    "\n",
    "# Рассчитываем скорость робота\n",
    "speed = robot.calculate_speed()\n",
    "print(f\"Линейная скорость робота: {speed:.2f} м/с\")\n"
   ]
  },
  {
   "cell_type": "markdown",
   "id": "7c851524-0d03-4ece-a3f8-e4e58a69e29e",
   "metadata": {},
   "source": [
    "## Пояснение:\n",
    "\n",
    "- Мы создаем два колеса с радиусом 0.1 метра (10 см).\n",
    "- Рассчитываем скорость робота, используя формулу $v = \\omega * r$, где - $\\omega$ - скорость вращения колес, и r - радиус колеса (м).\n",
    "- Метод `calculate_speed()` учитывает среднюю скорость вращения обоих колес для вычисления общей линейной скорости.\n"
   ]
  },
  {
   "cell_type": "markdown",
   "id": "3ced9568-fcec-44d5-af11-ab1d6373c84a",
   "metadata": {},
   "source": [
    "## 6. Практические примеры с моделью робота из кода выше\n",
    "\n",
    "Мы будем использовать модель робота, которую мы разработали ранее с использованием классов `Motor`, `Wheel` и `Robot`. В этих примерах мы продемонстрируем, как использовать основные операции для манипулирования движением робота, его колесами и двигателями, а также рассчитывать его скорость.\n",
    "\n",
    "1. Пример: Движение робота вперед\n",
    "В этом примере робот будет двигаться вперед с заданной скоростью. Мы будем использовать метод `move_forward()` для того, чтобы заставить робота двигаться."
   ]
  },
  {
   "cell_type": "code",
   "execution_count": null,
   "id": "1764c2ad-f3d7-4414-ac30-27145a2342a1",
   "metadata": {},
   "outputs": [],
   "source": [
    "# Создаем двигатели и колеса\n",
    "motor_left = Motor(max_speed=10, power=100)\n",
    "motor_right = Motor(max_speed=10, power=100)\n",
    "wheel_left = Wheel(radius=0.1)  # Радиус колеса 10 см\n",
    "wheel_right = Wheel(radius=0.1)\n",
    "\n",
    "# Создаем робота\n",
    "robot = Robot(motor_left, motor_right, wheel_left, wheel_right)\n",
    "\n",
    "# Двигаем робота вперед с определенной скоростью\n",
    "robot.move_forward(5)\n",
    "\n",
    "# Рассчитываем скорость робота\n",
    "speed = robot.calculate_speed()\n",
    "print(f\"Линейная скорость робота: {speed:.2f} м/с\")\n"
   ]
  },
  {
   "cell_type": "markdown",
   "id": "96c3c77b-aa11-4263-9729-499113048fa2",
   "metadata": {},
   "source": [
    "## Объяснение:\n",
    "\n",
    "Мы создаем два двигателя и два колеса для робота.\n",
    "Метод `move_forward(5)` заставляет робота двигаться вперед с заданной скоростью 5 м/с.\n",
    "После этого мы вычисляем скорость робота, используя метод `calculate_speed()`, который возвращает линейную скорость робота."
   ]
  },
  {
   "cell_type": "markdown",
   "id": "0f756e45-b1b5-40da-94e7-1f8405720981",
   "metadata": {},
   "source": [
    "2. Пример: Поворот робота налево\n",
    "В этом примере робот будет поворачиваться налево, а мы покажем, как изменяется скорость вращения колес."
   ]
  },
  {
   "cell_type": "code",
   "execution_count": null,
   "id": "15b6c25b-1774-4646-b960-b7ceddd4d701",
   "metadata": {},
   "outputs": [],
   "source": [
    "# Двигаем робота налево с определенной скоростью\n",
    "robot.turn_left(5)\n",
    "\n",
    "# Рассчитываем и выводим скорости двигателей\n",
    "print(f\"Скорость левого мотора: {motor_left.get_speed()} м/с\")\n",
    "print(f\"Скорость правого мотора: {motor_right.get_speed()} м/с\")\n"
   ]
  },
  {
   "cell_type": "markdown",
   "id": "21faa2df-7dbb-46c7-9100-20c5eb7801b4",
   "metadata": {},
   "source": [
    "Объяснение:\n",
    "\n",
    "Метод `turn_left(5)` заставляет робота повернуть налево, при этом скорость левого мотора будет равна нулю, а правый мотор будет работать на полной скорости.\n",
    "\n",
    "3. Пример: Поворот робота направо\n",
    "Этот пример похож на предыдущий, но робот будет поворачиваться направо."
   ]
  },
  {
   "cell_type": "code",
   "execution_count": null,
   "id": "f7545519-2ead-4799-a7dd-b57e7f71342b",
   "metadata": {},
   "outputs": [],
   "source": [
    "# Двигаем робота направо с определенной скоростью\n",
    "robot.turn_right(5)\n",
    "\n",
    "# Рассчитываем и выводим скорости двигателей\n",
    "print(f\"Скорость левого мотора: {motor_left.get_speed()} м/с\")\n",
    "print(f\"Скорость правого мотора: {motor_right.get_speed()} м/с\")\n"
   ]
  },
  {
   "cell_type": "markdown",
   "id": "f90005dd-3ccf-4761-a609-09e408381463",
   "metadata": {},
   "source": [
    "## Задания для самостоятельной работы\n",
    "\n",
    "### Задание 1: Расчет скорости робота при изменении угловой скорости колес\n",
    "\n",
    "Модифицируйте класс Robot так, чтобы скорость робота рассчитывалась в зависимости от угловой скорости каждого колеса. Например, если один мотор работает с большей угловой скоростью, то робот должен двигаться быстрее в том направлении.\n",
    "\n",
    "1. Измените метод calculate_speed(), чтобы он вычислял линейную скорость робота с учётом различий в угловой скорости колес.\n",
    "2. Проверьте результаты, изменяя скорость одного из моторов и вычисляя линейную скорость робота.\n",
    "\n",
    "Подсказка: Используйте формулу $v = \\omega * r$"
   ]
  },
  {
   "cell_type": "code",
   "execution_count": null,
   "id": "f444fcd7-a012-4037-abc3-f6706d85e692",
   "metadata": {},
   "outputs": [],
   "source": [
    "# Код для решения задания 1"
   ]
  },
  {
   "cell_type": "markdown",
   "id": "67dda672-3356-4bba-ab85-aa3456f3c133",
   "metadata": {},
   "source": [
    "## Задание 2: Добавление скорости поворота робота\n",
    "\n",
    "Добавьте возможность для робота поворачиваться с заданной угловой скоростью. Например, если оба мотора вращаются с одинаковой скоростью, робот будет двигаться по прямой. Если скорости моторов различны, робот будет поворачиваться.\n",
    "\n",
    "Создайте метод `turn_with_speed()`, который позволяет роботу поворачиваться с заданной угловой скоростью.\n",
    "Убедитесь, что робот поворачивает, изменяя скорости двигателей.\n"
   ]
  },
  {
   "cell_type": "code",
   "execution_count": null,
   "id": "9f8cba8b-a82f-48ad-8c33-2d55898fc395",
   "metadata": {},
   "outputs": [],
   "source": [
    "# Код для решения задания 2"
   ]
  },
  {
   "cell_type": "markdown",
   "id": "4ccc2422-d6ef-4bbf-975d-68ba24d4e254",
   "metadata": {},
   "source": [
    "## Задание 3: Создание робота с двумя независимыми двигателями\n",
    "\n",
    "Создайте нового робота с двумя независимыми двигателями. Каждый двигатель должен быть независимым и управляться своим собственным пультом. Например, один пульт управляет левым колесом, а другой — правым.\n",
    "\n",
    "1. Реализуйте два пульта для управления каждым мотором.\n",
    "2. Протестируйте робота, двигая его вперед, назад и поворачивая влево и вправо, управляя каждым мотором независимо.\n"
   ]
  },
  {
   "cell_type": "code",
   "execution_count": null,
   "id": "f39ea12b-9b54-4a80-969f-55c0dc516410",
   "metadata": {},
   "outputs": [],
   "source": [
    "# Код для решения задания 3"
   ]
  },
  {
   "cell_type": "markdown",
   "id": "02803554-a868-4ead-b53a-27bb78326b94",
   "metadata": {},
   "source": [
    "## Задание 4: Моделирование робота с использованием датчиков\n",
    "\n",
    "Добавьте в модель робота датчики расстояния, которые будут обнаруживать препятствия. Когда робот сталкивается с препятствием, он должен остановиться или изменить своё направление.\n",
    "\n",
    "1. Реализуйте класс Sensor, который будет моделировать датчик расстояния.\n",
    "2. Добавьте метод в класс Robot, который будет проверять расстояние до препятствий и в случае необходимости изменять направление робота.\n",
    "3. Протестируйте работу датчиков на примере движения робота по комнате с препятствиями."
   ]
  },
  {
   "cell_type": "code",
   "execution_count": null,
   "id": "e53be47c-4bc5-450a-ba2c-9e2411f536c9",
   "metadata": {},
   "outputs": [],
   "source": [
    "# Код для решения задания 4"
   ]
  },
  {
   "cell_type": "markdown",
   "id": "86e2bec6-49c4-40f8-a016-c6c64fbc991e",
   "metadata": {},
   "source": [
    "## Задание 5: Моделирование движения робота с учетом внешних факторов\n",
    "\n",
    "Добавьте в модель робота модель внешнего сопротивления, которое будет замедлять его движение при определённых условиях (например, при повышении нагрузки). Для этого создайте класс, моделирующий сопротивление, и учитывайте его в расчете скорости.\n",
    "\n",
    "1. Создайте класс Resistance, который будет моделировать внешнее сопротивление.\n",
    "2. Измените метод move_forward(), чтобы учитывать сопротивление и замедлять движение робота при увеличении сопротивления."
   ]
  },
  {
   "cell_type": "code",
   "execution_count": null,
   "id": "830ad639-0c0b-445b-96a1-8b60769ec9a1",
   "metadata": {},
   "outputs": [],
   "source": [
    "# Код для решения задания 5"
   ]
  }
 ],
 "metadata": {
  "kernelspec": {
   "display_name": "Python 3 (ipykernel)",
   "language": "python",
   "name": "python3"
  },
  "language_info": {
   "codemirror_mode": {
    "name": "ipython",
    "version": 3
   },
   "file_extension": ".py",
   "mimetype": "text/x-python",
   "name": "python",
   "nbconvert_exporter": "python",
   "pygments_lexer": "ipython3",
   "version": "3.12.7"
  }
 },
 "nbformat": 4,
 "nbformat_minor": 5
}
